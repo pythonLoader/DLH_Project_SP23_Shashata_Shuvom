{
 "cells": [
  {
   "cell_type": "code",
   "execution_count": 10,
   "id": "40e2d630",
   "metadata": {},
   "outputs": [],
   "source": [
    "import re\n",
    "from collections import deque\n",
    "import glob\n",
    "def parse_summary_stats(text):\n",
    "    result = {}\n",
    "    patterns = {\n",
    "        'GFLOPs': r\"GFLOPs.*: (\\d+\\.\\d+)\",\n",
    "        'Utilization': r\"Utilization: (\\d+\\.\\d+)\",\n",
    "        'Cycles': r\"Cycles: (\\d+)\",\n",
    "        'Energy': r\"Energy: (\\d+\\.\\d+) uJ\",\n",
    "        'Area': r\"Area: (\\d+\\.\\d+) mm\",\n",
    "        'Algorithmic Computes': r\"Algorithmic Computes = (\\d+)\",\n",
    "        'Total_pJ_Algorithmic_Compute': r\"Total\\s+=\\s+(\\d+\\.\\d+)\",\n",
    "        'Actual Computes': r\"Actual Computes = (\\d+)\",\n",
    "        'Total_pJ_Actual_Compute': r\"Total\\s+=\\s+(\\d+\\.\\d+)\"\n",
    "    }\n",
    "\n",
    "    for key, pattern in patterns.items():\n",
    "        match = re.search(pattern, text)\n",
    "        if match:\n",
    "            result[key] = float(match.group(1))\n",
    "\n",
    "    return result\n",
    "\n",
    "def read_from_summary_stats(filename):\n",
    "    summary_stats_line = \"Summary Stats\"\n",
    "    lines_since_summary_stats = None\n",
    "\n",
    "    with open(filename, 'r') as file:\n",
    "        for line in file:\n",
    "            if summary_stats_line in line:\n",
    "                lines_since_summary_stats = deque(maxlen=100)  # Adjust maxlen to the maximum number of lines you expect after \"Summary Stats\"\n",
    "            if lines_since_summary_stats is not None:\n",
    "                lines_since_summary_stats.append(line)\n",
    "\n",
    "    if lines_since_summary_stats:\n",
    "        return list(lines_since_summary_stats)\n",
    "    else:\n",
    "        return []"
   ]
  },
  {
   "cell_type": "code",
   "execution_count": 21,
   "id": "7fc0ceb6",
   "metadata": {},
   "outputs": [
    {
     "name": "stdout",
     "output_type": "stream",
     "text": [
      "Doing /home/workspace/lab3/sparse_arch/04.2.3-eyeriss-like-onchip-compression/sparse_layers/sparse_pointNet_layer1/timeloop-mapper.stats.txt\n",
      "Doing /home/workspace/lab3/sparse_arch/04.2.3-eyeriss-like-onchip-compression/sparse_layers/sparse_pointNet_layer10/timeloop-mapper.stats.txt\n",
      "Doing /home/workspace/lab3/sparse_arch/04.2.3-eyeriss-like-onchip-compression/sparse_layers/sparse_pointNet_layer11/timeloop-mapper.stats.txt\n",
      "Doing /home/workspace/lab3/sparse_arch/04.2.3-eyeriss-like-onchip-compression/sparse_layers/sparse_pointNet_layer12/timeloop-mapper.stats.txt\n",
      "Doing /home/workspace/lab3/sparse_arch/04.2.3-eyeriss-like-onchip-compression/sparse_layers/sparse_pointNet_layer2/timeloop-mapper.stats.txt\n",
      "Doing /home/workspace/lab3/sparse_arch/04.2.3-eyeriss-like-onchip-compression/sparse_layers/sparse_pointNet_layer3/timeloop-mapper.stats.txt\n",
      "Doing /home/workspace/lab3/sparse_arch/04.2.3-eyeriss-like-onchip-compression/sparse_layers/sparse_pointNet_layer4/timeloop-mapper.stats.txt\n",
      "Doing /home/workspace/lab3/sparse_arch/04.2.3-eyeriss-like-onchip-compression/sparse_layers/sparse_pointNet_layer5/timeloop-mapper.stats.txt\n",
      "Doing /home/workspace/lab3/sparse_arch/04.2.3-eyeriss-like-onchip-compression/sparse_layers/sparse_pointNet_layer6/timeloop-mapper.stats.txt\n",
      "Doing /home/workspace/lab3/sparse_arch/04.2.3-eyeriss-like-onchip-compression/sparse_layers/sparse_pointNet_layer7/timeloop-mapper.stats.txt\n",
      "Doing /home/workspace/lab3/sparse_arch/04.2.3-eyeriss-like-onchip-compression/sparse_layers/sparse_pointNet_layer8/timeloop-mapper.stats.txt\n",
      "Doing /home/workspace/lab3/sparse_arch/04.2.3-eyeriss-like-onchip-compression/sparse_layers/sparse_pointNet_layer9/timeloop-mapper.stats.txt\n"
     ]
    }
   ],
   "source": [
    "direc = \"/home/workspace/lab3/sparse_arch/04.2.3-eyeriss-like-onchip-compression/sparse_layers/\"\n",
    "\n",
    "for layer in glob.glob(direc+\"**/sparse_pointNet_*\", recursive=True):\n",
    "    filename = \"{}/timeloop-mapper.stats.txt\".format(layer)\n",
    "    lines_from_summary_stats = read_from_summary_stats(filename)\n",
    "    text = ''.join(lines_from_summary_stats)\n",
    "\n",
    "    # Use the parse_summary_stats function from the previous answer\n",
    "    parsed_values = parse_summary_stats(text)\n",
    "    df = pd.DataFrame(parsed_values,index=[0])\n",
    "    print(\"Doing\",filename)\n",
    "    output_file = \"{}/summary_output.csv\".format(layer)\n",
    "    df.to_csv(output_file,index=False)\n",
    "    "
   ]
  },
  {
   "cell_type": "code",
   "execution_count": 8,
   "id": "dd37e97f",
   "metadata": {},
   "outputs": [
    {
     "data": {
      "text/html": [
       "<div>\n",
       "<style scoped>\n",
       "    .dataframe tbody tr th:only-of-type {\n",
       "        vertical-align: middle;\n",
       "    }\n",
       "\n",
       "    .dataframe tbody tr th {\n",
       "        vertical-align: top;\n",
       "    }\n",
       "\n",
       "    .dataframe thead th {\n",
       "        text-align: right;\n",
       "    }\n",
       "</style>\n",
       "<table border=\"1\" class=\"dataframe\">\n",
       "  <thead>\n",
       "    <tr style=\"text-align: right;\">\n",
       "      <th></th>\n",
       "      <th>GFLOPs</th>\n",
       "      <th>Utilization</th>\n",
       "      <th>Cycles</th>\n",
       "      <th>Energy</th>\n",
       "      <th>Area</th>\n",
       "      <th>Algorithmic Computes</th>\n",
       "      <th>Total_pJ_Algorithmic_Compute</th>\n",
       "      <th>Actual Computes</th>\n",
       "      <th>Total_pJ_Actual_Compute</th>\n",
       "    </tr>\n",
       "  </thead>\n",
       "  <tbody>\n",
       "    <tr>\n",
       "      <th>0</th>\n",
       "      <td>2.89</td>\n",
       "      <td>0.02</td>\n",
       "      <td>268288.0</td>\n",
       "      <td>192.85</td>\n",
       "      <td>0.0</td>\n",
       "      <td>6291456.0</td>\n",
       "      <td>30.65</td>\n",
       "      <td>943719.0</td>\n",
       "      <td>30.65</td>\n",
       "    </tr>\n",
       "  </tbody>\n",
       "</table>\n",
       "</div>"
      ],
      "text/plain": [
       "   GFLOPs  Utilization    Cycles  Energy  Area  Algorithmic Computes   \n",
       "0    2.89         0.02  268288.0  192.85   0.0             6291456.0  \\\n",
       "\n",
       "   Total_pJ_Algorithmic_Compute  Actual Computes  Total_pJ_Actual_Compute  \n",
       "0                         30.65         943719.0                    30.65  "
      ]
     },
     "execution_count": 8,
     "metadata": {},
     "output_type": "execute_result"
    }
   ],
   "source": [
    "import pandas as pd\n",
    "df = pd.DataFrame(parsed_values,index=[0])\n",
    "df"
   ]
  },
  {
   "cell_type": "code",
   "execution_count": null,
   "id": "2e2be6cc",
   "metadata": {},
   "outputs": [],
   "source": []
  }
 ],
 "metadata": {
  "kernelspec": {
   "display_name": "Python 3 (ipykernel)",
   "language": "python",
   "name": "python3"
  },
  "language_info": {
   "codemirror_mode": {
    "name": "ipython",
    "version": 3
   },
   "file_extension": ".py",
   "mimetype": "text/x-python",
   "name": "python",
   "nbconvert_exporter": "python",
   "pygments_lexer": "ipython3",
   "version": "3.8.10"
  }
 },
 "nbformat": 4,
 "nbformat_minor": 5
}
